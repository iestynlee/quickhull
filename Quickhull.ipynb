{
 "cells": [
  {
   "cell_type": "code",
   "execution_count": 9,
   "id": "461aed40",
   "metadata": {},
   "outputs": [],
   "source": [
    "def quickhull(s):\n",
    "    # If the length is 2 or less than a convex hull can't be reached so return value\n",
    "    if len(s) <= 2:\n",
    "        return s\n",
    "    p1 = min(s) # Finding minimum point\n",
    "    p2 = max(s) # Finding maximum point\n",
    "    convex_hull = [] # Initialising convex hull\n",
    "    \n",
    "    # Recursively finds the hull above the line\n",
    "    findHull(s, p1, p2, convex_hull, \"above\") \n",
    "    \n",
    "    # Recursively finds the hull below the line\n",
    "    findHull(s, p1, p2, convex_hull, \"below\")\n",
    "    \n",
    "    # Prints the convex hull\n",
    "    print(convex_hull)"
   ]
  },
  {
   "cell_type": "code",
   "execution_count": 6,
   "id": "b299bba8",
   "metadata": {},
   "outputs": [],
   "source": [
    "def findHull(s, p1, p2, hull, segment):\n",
    "    # Converts above and below into numbers as it will be easier later to get sides\n",
    "    if segment == \"above\":\n",
    "        segment = 1\n",
    "    if segment == \"below\":\n",
    "        segment = -1\n",
    "        \n",
    "    segmentPoints = [] # Initialises sidePoints\n",
    "    # For every point in s will be used to calculate side\n",
    "    for i in s:\n",
    "        v = i # Just a temp value to be used \n",
    "        calc_segment = onSegment(p1, p2, v) # Calculation done in side function\n",
    "        # Gets the points on the side chosen so either above and below\n",
    "        if calc_segment == segment:\n",
    "            segmentPoints.append(v)\n",
    "    \n",
    "    # Points found on the side\n",
    "    if len(segmentPoints) > 0:\n",
    "        all_dist = [] # Initialises all distances\n",
    "        for i in segmentPoints:\n",
    "            v = i # Just a temp value to be used \n",
    "            dist = distance(p1, p2, v) # Distance calculation\n",
    "            all_dist.append(dist) # Appending to a list\n",
    "        points = dict(zip(segmentPoints, all_dist)) # Zips the points and distances together\n",
    "        \n",
    "        # Finds the max value of the point using the distances\n",
    "        max_point = max(points, key = points.get)\n",
    "        \n",
    "        # Values to make the the code readible for the next section\n",
    "        A = -onSegment(max_point, p1, p2)\n",
    "        B = -onSegment(max_point, p2, p1)\n",
    "        \n",
    "        # This is to apply findHull on max point to p1\n",
    "        findHull(s, max_point, p1, hull, A)\n",
    "        \n",
    "        # This is to apply findHull on max point to p2\n",
    "        findHull(s, max_point, p2, hull, B)\n",
    "    \n",
    "    # No points found on side of line\n",
    "    else:\n",
    "        # p1 not in hull will append to hull\n",
    "        if p1 not in hull:\n",
    "            hull.append(p1)\n",
    "        \n",
    "        # p2 not in hull will append to hull\n",
    "        elif p2 not in hull:\n",
    "            hull.append(p2)"
   ]
  },
  {
   "cell_type": "code",
   "execution_count": 7,
   "id": "236650fe",
   "metadata": {},
   "outputs": [],
   "source": [
    "def onSegment(p1, p2, p3):\n",
    "    # Calculating distance from p3 and the line p1 to p2\n",
    "    A = (p3[1] - p1[1]) * (p2[0] - p1[0])\n",
    "    B = (p2[1] - p1[1]) * (p3[0] - p1[0])\n",
    "    segment =  A - B\n",
    "    \n",
    "    # Calculating if its on the side\n",
    "    if segment != 0:\n",
    "        return segment // abs(segment)\n",
    "    else:\n",
    "        return 0 "
   ]
  },
  {
   "cell_type": "code",
   "execution_count": 8,
   "id": "48ab9056",
   "metadata": {},
   "outputs": [],
   "source": [
    "def distance(p1, p2, p3):\n",
    "    # Calculating distance from p3 and the line p1 to p2\n",
    "    A = (p3[1] - p1[1]) * (p2[0] - p1[0])\n",
    "    B = (p2[1] - p1[1]) * (p3[0] - p1[0])\n",
    "    return abs(A - B)"
   ]
  },
  {
   "cell_type": "code",
   "execution_count": 11,
   "id": "ec84bdc8",
   "metadata": {},
   "outputs": [
    {
     "name": "stdout",
     "output_type": "stream",
     "text": [
      "[(0, 4), (2, 5), (5, 5), (5, 2)]\n"
     ]
    }
   ],
   "source": [
    "# Example points to use for the example\n",
    "points = [(0,4),\n",
    "        (5,2),\n",
    "        (2,5),\n",
    "        (3,2),\n",
    "        (0,0),\n",
    "        (1,2),\n",
    "        (2,1),\n",
    "        (3,4),\n",
    "        (5,5)]\n",
    "\n",
    "quickhull(points)"
   ]
  }
 ],
 "metadata": {
  "kernelspec": {
   "display_name": "Python 3 (ipykernel)",
   "language": "python",
   "name": "python3"
  },
  "language_info": {
   "codemirror_mode": {
    "name": "ipython",
    "version": 3
   },
   "file_extension": ".py",
   "mimetype": "text/x-python",
   "name": "python",
   "nbconvert_exporter": "python",
   "pygments_lexer": "ipython3",
   "version": "3.9.12"
  }
 },
 "nbformat": 4,
 "nbformat_minor": 5
}
